{
 "cells": [
  {
   "cell_type": "markdown",
   "metadata": {},
   "source": [
    "# Profitable App Profiles for the App Store and Google Play Markets\n",
    "\n",
    "This project will show which Apps are the most profitable from the App Store and Google Play Markets. \n",
    "\n",
    "The goal is to provide data driven reserch for Mobile App Developers to show where the market is trending. More specifically, we will be analyzing the free apps, and which are more profitable.\n",
    "\n",
    "# Opening and Exploring the Data\n",
    "\n",
    "Below the data is read from:\n",
    "- (Google) https://www.kaggle.com/lava18/google-play-store-apps/home\n",
    "- (Apple) https://www.kaggle.com/ramamet4/app-store-apple-data-set-10k-apps/home\n",
    "\n",
    "These two datasets are opened and read into the the two variables below."
   ]
  },
  {
   "cell_type": "code",
   "execution_count": 1,
   "metadata": {
    "collapsed": false
   },
   "outputs": [],
   "source": [
    "from csv import reader\n",
    "\n",
    "def read_data(file, header = True):\n",
    "    opened_file = open(file)\n",
    "    read_file = reader(opened_file)\n",
    "    dataset = list(read_file)\n",
    "    if header:\n",
    "        return dataset[0], dataset[1:]\n",
    "    else:\n",
    "        return dataset\n",
    "\n",
    "# Apple Data Set\n",
    "apple_header, apple_data = read_data('AppleStore.csv')\n",
    "# Google Data Set\n",
    "google_header, google_data = read_data('googleplaystore.csv')"
   ]
  },
  {
   "cell_type": "markdown",
   "metadata": {},
   "source": [
    "The below function is used to print the rows in the dataset at a specified range. This will be used to explore that contents of the data above.\n",
    "\n",
    "Now we will explore the Apple Data set by first looking a the header row and the amount of Columns and Rows. This is get and idea of the amount of data we are working with."
   ]
  },
  {
   "cell_type": "code",
   "execution_count": 2,
   "metadata": {
    "collapsed": false
   },
   "outputs": [
    {
     "name": "stdout",
     "output_type": "stream",
     "text": [
      "['id', 'track_name', 'size_bytes', 'currency', 'price', 'rating_count_tot', 'rating_count_ver', 'user_rating', 'user_rating_ver', 'ver', 'cont_rating', 'prime_genre', 'sup_devices.num', 'ipadSc_urls.num', 'lang.num', 'vpp_lic'] \n",
      "\n",
      "['284882215', 'Facebook', '389879808', 'USD', '0.0', '2974676', '212', '3.5', '3.5', '95.0', '4+', 'Social Networking', '37', '1', '29', '1']\n",
      "\n",
      "\n",
      "['389801252', 'Instagram', '113954816', 'USD', '0.0', '2161558', '1289', '4.5', '4.0', '10.23', '12+', 'Photo & Video', '37', '0', '29', '1']\n",
      "\n",
      "\n",
      "['529479190', 'Clash of Clans', '116476928', 'USD', '0.0', '2130805', '579', '4.5', '4.5', '9.24.12', '9+', 'Games', '38', '5', '18', '1']\n",
      "\n",
      "\n",
      "Number of rows: 7197\n",
      "Number of columns: 16\n"
     ]
    }
   ],
   "source": [
    "def explore_data(dataset, start, end, rows_and_columns=False):\n",
    "    dataset_slice = dataset[start:end]    \n",
    "    for row in dataset_slice:\n",
    "        print(row)\n",
    "        print('\\n')\n",
    "\n",
    "    if rows_and_columns:\n",
    "        print('Number of rows:', len(dataset))\n",
    "        print('Number of columns:', len(dataset[0]))\n",
    "        \n",
    "print(apple_header,'\\n')\n",
    "explore_data(apple_data, 0, 3, True)        "
   ]
  },
  {
   "cell_type": "markdown",
   "metadata": {},
   "source": [
    "The above shows that 7197 rows and 16 columns to work with. At a glance, some of the columns that might provide some value are \"track_name\", \"price\". \"rating_count_tot\", \"user_rating\", and \"prime_genre\". This will become more clear as we look into the data.\n",
    "Since there are over 7000 rows, only first three rows are displayed.\n",
    "\n",
    "Next we will look at a sample of the Google Data."
   ]
  },
  {
   "cell_type": "code",
   "execution_count": 3,
   "metadata": {
    "collapsed": false
   },
   "outputs": [
    {
     "name": "stdout",
     "output_type": "stream",
     "text": [
      "['App', 'Category', 'Rating', 'Reviews', 'Size', 'Installs', 'Type', 'Price', 'Content Rating', 'Genres', 'Last Updated', 'Current Ver', 'Android Ver'] \n",
      "\n",
      "['Photo Editor & Candy Camera & Grid & ScrapBook', 'ART_AND_DESIGN', '4.1', '159', '19M', '10,000+', 'Free', '0', 'Everyone', 'Art & Design', 'January 7, 2018', '1.0.0', '4.0.3 and up']\n",
      "\n",
      "\n",
      "['Coloring book moana', 'ART_AND_DESIGN', '3.9', '967', '14M', '500,000+', 'Free', '0', 'Everyone', 'Art & Design;Pretend Play', 'January 15, 2018', '2.0.0', '4.0.3 and up']\n",
      "\n",
      "\n",
      "['U Launcher Lite – FREE Live Cool Themes, Hide Apps', 'ART_AND_DESIGN', '4.7', '87510', '8.7M', '5,000,000+', 'Free', '0', 'Everyone', 'Art & Design', 'August 1, 2018', '1.2.4', '4.0.3 and up']\n",
      "\n",
      "\n",
      "Number of rows: 10841\n",
      "Number of columns: 13\n"
     ]
    }
   ],
   "source": [
    "print(google_header,'\\n')\n",
    "explore_data(google_data, 0, 3, True)   "
   ]
  },
  {
   "cell_type": "markdown",
   "metadata": {},
   "source": [
    "The above shows that there are 10841 rows with 13 columns. Of the 13 columns, the ones that appear to be useful for the analytics are \"App\", \"Category\", \"Rating\", \"Installs\", \"Price\", \"Rating\", and \"Genres\". Again this will become more clear as we analyze the data."
   ]
  },
  {
   "cell_type": "markdown",
   "metadata": {},
   "source": [
    "# Deleting Wrong Data\n",
    "\n",
    "After browsing the discussions pags on Kaggle, it became apparent that there is an error within one of the rows in the Google dataset. The Category is aparently missing, which will cause some issues in our analytics.\n",
    "\n",
    "Please see https://www.kaggle.com/lava18/google-play-store-apps/discussion/66015 for further details.\n",
    "\n",
    "We will now look at the problem row and determine if it needs to be removed. This will be compared against a correct row for analysis."
   ]
  },
  {
   "cell_type": "code",
   "execution_count": 4,
   "metadata": {
    "collapsed": false
   },
   "outputs": [
    {
     "name": "stdout",
     "output_type": "stream",
     "text": [
      "['App', 'Category', 'Rating', 'Reviews', 'Size', 'Installs', 'Type', 'Price', 'Content Rating', 'Genres', 'Last Updated', 'Current Ver', 'Android Ver'] \n",
      "\n",
      "['Life Made WI-Fi Touchscreen Photo Frame', '1.9', '19', '3.0M', '1,000+', 'Free', '0', 'Everyone', '', 'February 11, 2018', '1.0.19', '4.0 and up'] \n",
      "\n",
      "['Coloring book moana', 'ART_AND_DESIGN', '3.9', '967', '14M', '500,000+', 'Free', '0', 'Everyone', 'Art & Design;Pretend Play', 'January 15, 2018', '2.0.0', '4.0.3 and up']\n"
     ]
    }
   ],
   "source": [
    "print(google_header,'\\n') #header\n",
    "print(google_data[10472],'\\n') #incorrect row\n",
    "print(google_data[1]) #correct row"
   ]
  },
  {
   "cell_type": "markdown",
   "metadata": {},
   "source": [
    "The above shows that row 10472 is indeed incorrect. The category appears to be completely missing with 1.9 in its place. This row will be delete from the data set for accuracy."
   ]
  },
  {
   "cell_type": "code",
   "execution_count": 5,
   "metadata": {
    "collapsed": true
   },
   "outputs": [],
   "source": [
    "del google_data[10472]"
   ]
  },
  {
   "cell_type": "markdown",
   "metadata": {},
   "source": [
    "# Removing Duplicate Entries\n",
    "## Part One\n",
    "To ensure the data sets we are working with are clean and valid, we must verify that there no duplicate entries. This can be done by first finding any two apps with the same name."
   ]
  },
  {
   "cell_type": "code",
   "execution_count": 6,
   "metadata": {
    "collapsed": false
   },
   "outputs": [
    {
     "name": "stdout",
     "output_type": "stream",
     "text": [
      "The number of duplicate apps is: 1181 \n",
      "\n",
      "Examples of duplicate apps: ['Quick PDF Scanner + OCR FREE', 'Box', 'Google My Business', 'ZOOM Cloud Meetings', 'join.me - Simple Meetings', 'Box', 'Zenefits', 'Google Ads', 'Google My Business', 'Slack']\n"
     ]
    }
   ],
   "source": [
    "duplicate_apps = []\n",
    "unique_apps = []\n",
    "\n",
    "for row in google_data:\n",
    "    name = row[0]\n",
    "    if name in unique_apps:\n",
    "        duplicate_apps.append(name)\n",
    "    else:\n",
    "        unique_apps.append(name)\n",
    "\n",
    "print('The number of duplicate apps is:', len(duplicate_apps),'\\n')\n",
    "print('Examples of duplicate apps:', duplicate_apps[:10])"
   ]
  },
  {
   "cell_type": "markdown",
   "metadata": {},
   "source": [
    "As you can see above, there are a total of 1181 duplicate apps in the data set. The next question is which of the duplicates do we keep? For this, I will propose that we keep the rows with the latest date in the \"Last Updated\" column. Once the data is clean, we should have the following number of clean rows."
   ]
  },
  {
   "cell_type": "markdown",
   "metadata": {},
   "source": [
    "## Part Two\n",
    "For this section, we will create a dictionary to store the unique rows with the greatest \"Last Updated\" date. We will need to use the datetime module to compare the dates. To keep the data as close to its original state as possible, we will only use the module for comparison. The actual string value will still be stored in the dictionary."
   ]
  },
  {
   "cell_type": "code",
   "execution_count": 7,
   "metadata": {
    "collapsed": false,
    "scrolled": true
   },
   "outputs": [
    {
     "name": "stdout",
     "output_type": "stream",
     "text": [
      "Expected Rows: 9659\n",
      "Actual Rows: 9659\n"
     ]
    }
   ],
   "source": [
    "from datetime import datetime\n",
    "dates_max = {}\n",
    "\n",
    "for row in google_data:\n",
    "    name = row[0]\n",
    "    last_updated = row[10]\n",
    "    last_updated_object = datetime.strptime(last_updated, \"%B %d, %Y\")\n",
    "    if name in dates_max:\n",
    "        if datetime.strptime(dates_max[name], \"%B %d, %Y\") < last_updated_object:\n",
    "            dates_max[name] = last_updated\n",
    "    if name not in dates_max:\n",
    "        dates_max[name] = last_updated\n",
    "        \n",
    "print('Expected Rows:',len(google_data) - len(duplicate_apps))\n",
    "print('Actual Rows:',len(dates_max))"
   ]
  },
  {
   "cell_type": "markdown",
   "metadata": {},
   "source": [
    "As you can see above, we are succesful in keeping the most up to date apps in our disctionary. The next step is to use this disctionary to remove the duplicate rows in our actual dataset."
   ]
  },
  {
   "cell_type": "code",
   "execution_count": 8,
   "metadata": {
    "collapsed": false
   },
   "outputs": [],
   "source": [
    "google_data_clean = []\n",
    "already_added = []\n",
    "\n",
    "for row in google_data:\n",
    "    name = row[0]\n",
    "    last_updated = row[10]\n",
    "    if (dates_max[name] == last_updated) and (name not in already_added):\n",
    "        google_data_clean.append(row)\n",
    "        already_added.append(name)"
   ]
  },
  {
   "cell_type": "markdown",
   "metadata": {},
   "source": [
    "Now we will explore the new clean data set to verify the duplicates were removed."
   ]
  },
  {
   "cell_type": "code",
   "execution_count": 9,
   "metadata": {
    "collapsed": false
   },
   "outputs": [
    {
     "name": "stdout",
     "output_type": "stream",
     "text": [
      "['Photo Editor & Candy Camera & Grid & ScrapBook', 'ART_AND_DESIGN', '4.1', '159', '19M', '10,000+', 'Free', '0', 'Everyone', 'Art & Design', 'January 7, 2018', '1.0.0', '4.0.3 and up']\n",
      "\n",
      "\n",
      "['Coloring book moana', 'ART_AND_DESIGN', '3.9', '967', '14M', '500,000+', 'Free', '0', 'Everyone', 'Art & Design;Pretend Play', 'January 15, 2018', '2.0.0', '4.0.3 and up']\n",
      "\n",
      "\n",
      "['U Launcher Lite – FREE Live Cool Themes, Hide Apps', 'ART_AND_DESIGN', '4.7', '87510', '8.7M', '5,000,000+', 'Free', '0', 'Everyone', 'Art & Design', 'August 1, 2018', '1.2.4', '4.0.3 and up']\n",
      "\n",
      "\n",
      "Number of rows: 9659\n",
      "Number of columns: 13\n"
     ]
    }
   ],
   "source": [
    "explore_data(google_data_clean, 0, 3, True)"
   ]
  },
  {
   "cell_type": "markdown",
   "metadata": {},
   "source": [
    "From the sample above, this looks to be correct. We now have a Google dataset with no duplicates to work with.\n",
    "\n",
    "# Removing Non-English Apps\n",
    "## Part One\n",
    "\n",
    "Since we are only interested in the apps that are in English, the ones that use anything other than English Characters in their title will be removed.\n",
    "\n",
    "The first step here is to create a function that will read the title of the app and determine if it has Non-English characters."
   ]
  },
  {
   "cell_type": "code",
   "execution_count": 10,
   "metadata": {
    "collapsed": false
   },
   "outputs": [
    {
     "name": "stdout",
     "output_type": "stream",
     "text": [
      "True\n",
      "False\n",
      "False\n",
      "False\n"
     ]
    }
   ],
   "source": [
    "def is_english(string):\n",
    "    for char in string:\n",
    "        if ord(char) > 127:\n",
    "            return False\n",
    "    return True    \n",
    "\n",
    "print(is_english('Instagram'))\n",
    "print(is_english('爱奇艺PPS -《欢乐颂2》电视剧热播'))\n",
    "print(is_english('Docs To Go™ Free Office Suite'))\n",
    "print(is_english('Instachat 😜'))"
   ]
  },
  {
   "cell_type": "markdown",
   "metadata": {},
   "source": [
    "The function is working, but it is also returning false for charcters such as emoji's or symbols. This will need to be corrected to avoid removing English apps.\n",
    "\n",
    "## Part Two\n",
    "\n",
    "The function needs to be re-written to accept English apps with special charcters in it. We can do these by returning false only if the name contains more than three Non-English characters."
   ]
  },
  {
   "cell_type": "code",
   "execution_count": 11,
   "metadata": {
    "collapsed": false
   },
   "outputs": [
    {
     "name": "stdout",
     "output_type": "stream",
     "text": [
      "True\n",
      "False\n",
      "True\n",
      "True\n"
     ]
    }
   ],
   "source": [
    "def is_english(string):\n",
    "    non_ascii = 0\n",
    "    \n",
    "    for char in string:\n",
    "        if ord(char) > 127:\n",
    "            non_ascii += 1\n",
    "\n",
    "    if non_ascii > 3:\n",
    "        return False\n",
    "    else:\n",
    "        return True    \n",
    "\n",
    "print(is_english('Instagram'))\n",
    "print(is_english('爱奇艺PPS -《欢乐颂2》电视剧热播'))\n",
    "print(is_english('Docs To Go™ Free Office Suite'))\n",
    "print(is_english('Instachat 😜'))"
   ]
  },
  {
   "cell_type": "markdown",
   "metadata": {},
   "source": [
    "The above function will now work to determine which apps are English, including those with special characters. This function will now be used to filter the Non-English apps in both the Apple and Google datasets."
   ]
  },
  {
   "cell_type": "code",
   "execution_count": 12,
   "metadata": {
    "collapsed": false
   },
   "outputs": [
    {
     "name": "stdout",
     "output_type": "stream",
     "text": [
      "['284882215', 'Facebook', '389879808', 'USD', '0.0', '2974676', '212', '3.5', '3.5', '95.0', '4+', 'Social Networking', '37', '1', '29', '1']\n",
      "\n",
      "\n",
      "['389801252', 'Instagram', '113954816', 'USD', '0.0', '2161558', '1289', '4.5', '4.0', '10.23', '12+', 'Photo & Video', '37', '0', '29', '1']\n",
      "\n",
      "\n",
      "['529479190', 'Clash of Clans', '116476928', 'USD', '0.0', '2130805', '579', '4.5', '4.5', '9.24.12', '9+', 'Games', '38', '5', '18', '1']\n",
      "\n",
      "\n",
      "Number of rows: 6183\n",
      "Number of columns: 16\n",
      "\n",
      "\n",
      "['Photo Editor & Candy Camera & Grid & ScrapBook', 'ART_AND_DESIGN', '4.1', '159', '19M', '10,000+', 'Free', '0', 'Everyone', 'Art & Design', 'January 7, 2018', '1.0.0', '4.0.3 and up']\n",
      "\n",
      "\n",
      "['Coloring book moana', 'ART_AND_DESIGN', '3.9', '967', '14M', '500,000+', 'Free', '0', 'Everyone', 'Art & Design;Pretend Play', 'January 15, 2018', '2.0.0', '4.0.3 and up']\n",
      "\n",
      "\n",
      "['U Launcher Lite – FREE Live Cool Themes, Hide Apps', 'ART_AND_DESIGN', '4.7', '87510', '8.7M', '5,000,000+', 'Free', '0', 'Everyone', 'Art & Design', 'August 1, 2018', '1.2.4', '4.0.3 and up']\n",
      "\n",
      "\n",
      "Number of rows: 9614\n",
      "Number of columns: 13\n"
     ]
    }
   ],
   "source": [
    "apple_english = []\n",
    "google_english = []\n",
    "\n",
    "for row in apple_data:\n",
    "    name = row[1]\n",
    "    if is_english(name) == True:\n",
    "        apple_english.append(row)\n",
    "        \n",
    "for row in google_data_clean:\n",
    "    name = row[0]\n",
    "    if is_english(name) == True:\n",
    "        google_english.append(row)\n",
    "        \n",
    "explore_data(apple_english, 0, 3, True)\n",
    "print('\\n')\n",
    "explore_data(google_english, 0, 3, True)        "
   ]
  },
  {
   "cell_type": "markdown",
   "metadata": {},
   "source": [
    "We can see that we're left with 9614 Android apps and 6183 iOS apps.\n",
    "\n",
    "# Isolating the Free Apps\n",
    "Since we stated in the beginning that we are interested in the free apps, we need to isolate those into their own dataset."
   ]
  },
  {
   "cell_type": "code",
   "execution_count": 13,
   "metadata": {
    "collapsed": false
   },
   "outputs": [
    {
     "name": "stdout",
     "output_type": "stream",
     "text": [
      "8864\n",
      "3222\n"
     ]
    }
   ],
   "source": [
    "google_free = []\n",
    "apple_free = []\n",
    "\n",
    "for row in google_english:\n",
    "    price = row[7]\n",
    "    if price == '0':\n",
    "        google_free.append(row)\n",
    "        \n",
    "for row in apple_english:\n",
    "    price = row[4]\n",
    "    if price == '0.0':\n",
    "        apple_free.append(row)\n",
    "        \n",
    "print(len(google_free))\n",
    "print(len(apple_free))"
   ]
  },
  {
   "cell_type": "markdown",
   "metadata": {},
   "source": [
    "The above has taken a decent chunk out of our datasets. Our free apps are now isolated and should be ready for analysis.\n",
    "\n",
    "# Most Common Apps by Genre\n",
    "## Part One\n",
    "\n",
    "The rest of this analysis will be done by review the most profitable apps by genre. Genre will be a good key indicator of what type of app developers should be creating. \n",
    "\n",
    "This analysis will be done by creating frequency tables to determine which app genre is most popular in both markets. Both datasets have genre columns, which will be very useful when conducting the analysis.\n",
    "\n",
    "## Part Two\n",
    "Well will begin by creating two functions to generate the frequency tables. \n",
    "- The first function will be used to create and return the frequency tables\n",
    "- The second will be used to display and sort the table"
   ]
  },
  {
   "cell_type": "code",
   "execution_count": 14,
   "metadata": {
    "collapsed": false
   },
   "outputs": [],
   "source": [
    "def freq_table(dataset, index):\n",
    "    table = {}\n",
    "    total = 0\n",
    "    for row in dataset:\n",
    "        total += 1\n",
    "        genre = row[index]\n",
    "        if genre in table:\n",
    "            table[genre] += 1\n",
    "        else:\n",
    "            table[genre] = 1\n",
    "            \n",
    "    table_percentages = {}\n",
    "    for key in table:\n",
    "        percentage = (table[key] / total) * 100\n",
    "        table_percentages[key] = percentage \n",
    "    \n",
    "    return table_percentages\n",
    "\n",
    "def display_table(dataset, index):\n",
    "    table = freq_table(dataset, index)\n",
    "    table_display = []\n",
    "    for key in table:\n",
    "        key_val_as_tuple = (table[key], key)\n",
    "        table_display.append(key_val_as_tuple)\n",
    "\n",
    "    table_sorted = sorted(table_display, reverse = True)\n",
    "    for entry in table_sorted:\n",
    "        print(entry[1], ':', entry[0])"
   ]
  },
  {
   "cell_type": "markdown",
   "metadata": {},
   "source": [
    "## Part Three\n",
    "We will look at the Google Dataset first. Keep in mind this dataset only contains Free English apps.\n",
    "The Google Dataset contains both a Category and Genre Column. We will explore both, but Category first."
   ]
  },
  {
   "cell_type": "code",
   "execution_count": 15,
   "metadata": {
    "collapsed": false
   },
   "outputs": [
    {
     "name": "stdout",
     "output_type": "stream",
     "text": [
      "FAMILY : 18.479241877256317\n",
      "GAME : 9.87138989169675\n",
      "TOOLS : 8.461191335740072\n",
      "BUSINESS : 4.580324909747293\n",
      "LIFESTYLE : 3.9034296028880866\n",
      "PRODUCTIVITY : 3.892148014440433\n",
      "FINANCE : 3.7003610108303246\n",
      "MEDICAL : 3.531137184115524\n",
      "SPORTS : 3.395758122743682\n",
      "PERSONALIZATION : 3.3167870036101084\n",
      "COMMUNICATION : 3.2490974729241873\n",
      "HEALTH_AND_FITNESS : 3.0798736462093865\n",
      "PHOTOGRAPHY : 2.944494584837545\n",
      "NEWS_AND_MAGAZINES : 2.7978339350180503\n",
      "SOCIAL : 2.6624548736462095\n",
      "TRAVEL_AND_LOCAL : 2.33528880866426\n",
      "SHOPPING : 2.2450361010830324\n",
      "BOOKS_AND_REFERENCE : 2.1435018050541514\n",
      "DATING : 1.861462093862816\n",
      "VIDEO_PLAYERS : 1.782490974729242\n",
      "MAPS_AND_NAVIGATION : 1.3989169675090252\n",
      "EDUCATION : 1.2522563176895307\n",
      "FOOD_AND_DRINK : 1.2409747292418771\n",
      "ENTERTAINMENT : 1.128158844765343\n",
      "LIBRARIES_AND_DEMO : 0.9363718411552346\n",
      "AUTO_AND_VEHICLES : 0.9250902527075812\n",
      "HOUSE_AND_HOME : 0.8235559566787004\n",
      "WEATHER : 0.8009927797833934\n",
      "EVENTS : 0.7107400722021661\n",
      "ART_AND_DESIGN : 0.6768953068592057\n",
      "PARENTING : 0.6543321299638989\n",
      "COMICS : 0.6204873646209386\n",
      "BEAUTY : 0.5979241877256317\n"
     ]
    }
   ],
   "source": [
    "display_table(google_free, 1) #Category"
   ]
  },
  {
   "cell_type": "markdown",
   "metadata": {},
   "source": [
    "The above shows that Family is the most common Category, with Games and Tools being nearly half as popular. Family and Games would be geared more towards entertainment. \n",
    "We will see if this still holds true when explore the Genre column."
   ]
  },
  {
   "cell_type": "code",
   "execution_count": 16,
   "metadata": {
    "collapsed": false
   },
   "outputs": [
    {
     "name": "stdout",
     "output_type": "stream",
     "text": [
      "Tools : 8.449909747292418\n",
      "Entertainment : 6.069494584837545\n",
      "Education : 5.347472924187725\n",
      "Business : 4.580324909747293\n",
      "Productivity : 3.892148014440433\n",
      "Lifestyle : 3.892148014440433\n",
      "Finance : 3.7003610108303246\n",
      "Medical : 3.531137184115524\n",
      "Sports : 3.463447653429603\n",
      "Personalization : 3.3167870036101084\n",
      "Communication : 3.2490974729241873\n",
      "Action : 3.1024368231046933\n",
      "Health & Fitness : 3.0798736462093865\n",
      "Photography : 2.944494584837545\n",
      "News & Magazines : 2.7978339350180503\n",
      "Social : 2.6624548736462095\n",
      "Travel & Local : 2.3240072202166067\n",
      "Shopping : 2.2450361010830324\n",
      "Books & Reference : 2.1435018050541514\n",
      "Simulation : 2.0419675090252705\n",
      "Dating : 1.861462093862816\n",
      "Arcade : 1.8501805054151623\n",
      "Video Players & Editors : 1.7712093862815883\n",
      "Casual : 1.7599277978339352\n",
      "Maps & Navigation : 1.3989169675090252\n",
      "Food & Drink : 1.2409747292418771\n",
      "Puzzle : 1.128158844765343\n",
      "Racing : 0.9927797833935018\n",
      "Role Playing : 0.9363718411552346\n",
      "Libraries & Demo : 0.9363718411552346\n",
      "Auto & Vehicles : 0.9250902527075812\n",
      "Strategy : 0.9138086642599278\n",
      "House & Home : 0.8235559566787004\n",
      "Weather : 0.8009927797833934\n",
      "Events : 0.7107400722021661\n",
      "Adventure : 0.6768953068592057\n",
      "Comics : 0.6092057761732852\n",
      "Beauty : 0.5979241877256317\n",
      "Art & Design : 0.5979241877256317\n",
      "Parenting : 0.4963898916967509\n",
      "Card : 0.45126353790613716\n",
      "Casino : 0.42870036101083037\n",
      "Trivia : 0.41741877256317694\n",
      "Educational;Education : 0.39485559566787\n",
      "Board : 0.3835740072202166\n",
      "Educational : 0.3722924187725632\n",
      "Education;Education : 0.33844765342960287\n",
      "Word : 0.2594765342960289\n",
      "Casual;Pretend Play : 0.236913357400722\n",
      "Music : 0.2030685920577617\n",
      "Racing;Action & Adventure : 0.16922382671480143\n",
      "Puzzle;Brain Games : 0.16922382671480143\n",
      "Entertainment;Music & Video : 0.16922382671480143\n",
      "Casual;Brain Games : 0.13537906137184114\n",
      "Casual;Action & Adventure : 0.13537906137184114\n",
      "Arcade;Action & Adventure : 0.12409747292418773\n",
      "Action;Action & Adventure : 0.10153429602888085\n",
      "Educational;Pretend Play : 0.09025270758122744\n",
      "Simulation;Action & Adventure : 0.078971119133574\n",
      "Parenting;Education : 0.078971119133574\n",
      "Entertainment;Brain Games : 0.078971119133574\n",
      "Board;Brain Games : 0.078971119133574\n",
      "Parenting;Music & Video : 0.06768953068592057\n",
      "Educational;Brain Games : 0.06768953068592057\n",
      "Casual;Creativity : 0.06768953068592057\n",
      "Art & Design;Creativity : 0.06768953068592057\n",
      "Education;Pretend Play : 0.056407942238267145\n",
      "Role Playing;Pretend Play : 0.04512635379061372\n",
      "Education;Creativity : 0.04512635379061372\n",
      "Role Playing;Action & Adventure : 0.033844765342960284\n",
      "Puzzle;Action & Adventure : 0.033844765342960284\n",
      "Entertainment;Creativity : 0.033844765342960284\n",
      "Entertainment;Action & Adventure : 0.033844765342960284\n",
      "Educational;Creativity : 0.033844765342960284\n",
      "Educational;Action & Adventure : 0.033844765342960284\n",
      "Education;Music & Video : 0.033844765342960284\n",
      "Education;Brain Games : 0.033844765342960284\n",
      "Education;Action & Adventure : 0.033844765342960284\n",
      "Adventure;Action & Adventure : 0.033844765342960284\n",
      "Video Players & Editors;Music & Video : 0.02256317689530686\n",
      "Sports;Action & Adventure : 0.02256317689530686\n",
      "Simulation;Pretend Play : 0.02256317689530686\n",
      "Puzzle;Creativity : 0.02256317689530686\n",
      "Music;Music & Video : 0.02256317689530686\n",
      "Entertainment;Pretend Play : 0.02256317689530686\n",
      "Casual;Education : 0.02256317689530686\n",
      "Board;Action & Adventure : 0.02256317689530686\n",
      "Video Players & Editors;Creativity : 0.01128158844765343\n",
      "Trivia;Education : 0.01128158844765343\n",
      "Travel & Local;Action & Adventure : 0.01128158844765343\n",
      "Tools;Education : 0.01128158844765343\n",
      "Strategy;Education : 0.01128158844765343\n",
      "Strategy;Creativity : 0.01128158844765343\n",
      "Strategy;Action & Adventure : 0.01128158844765343\n",
      "Simulation;Education : 0.01128158844765343\n",
      "Role Playing;Brain Games : 0.01128158844765343\n",
      "Racing;Pretend Play : 0.01128158844765343\n",
      "Puzzle;Education : 0.01128158844765343\n",
      "Parenting;Brain Games : 0.01128158844765343\n",
      "Music & Audio;Music & Video : 0.01128158844765343\n",
      "Lifestyle;Pretend Play : 0.01128158844765343\n",
      "Lifestyle;Education : 0.01128158844765343\n",
      "Health & Fitness;Education : 0.01128158844765343\n",
      "Health & Fitness;Action & Adventure : 0.01128158844765343\n",
      "Entertainment;Education : 0.01128158844765343\n",
      "Communication;Creativity : 0.01128158844765343\n",
      "Comics;Creativity : 0.01128158844765343\n",
      "Casual;Music & Video : 0.01128158844765343\n",
      "Card;Action & Adventure : 0.01128158844765343\n",
      "Books & Reference;Education : 0.01128158844765343\n",
      "Art & Design;Pretend Play : 0.01128158844765343\n",
      "Art & Design;Action & Adventure : 0.01128158844765343\n",
      "Arcade;Pretend Play : 0.01128158844765343\n",
      "Adventure;Education : 0.01128158844765343\n"
     ]
    }
   ],
   "source": [
    "display_table(google_free, 9) #Genre"
   ]
  },
  {
   "cell_type": "markdown",
   "metadata": {},
   "source": [
    "This is a much larger list, which I would argue is a more broken out version of the Categories.\n",
    "The top Genres here are Tools, Entertainment, and Education. This a nice variety of Entertainment and Practicality.\n",
    "\n",
    "We will now explore the Apple dataset to see how it compares."
   ]
  },
  {
   "cell_type": "code",
   "execution_count": 17,
   "metadata": {
    "collapsed": false
   },
   "outputs": [
    {
     "name": "stdout",
     "output_type": "stream",
     "text": [
      "Games : 58.16263190564867\n",
      "Entertainment : 7.883302296710118\n",
      "Photo & Video : 4.9658597144630665\n",
      "Education : 3.662321539416512\n",
      "Social Networking : 3.2898820608317814\n",
      "Shopping : 2.60707635009311\n",
      "Utilities : 2.5139664804469275\n",
      "Sports : 2.1415270018621975\n",
      "Music : 2.0484171322160147\n",
      "Health & Fitness : 2.0173805090006205\n",
      "Productivity : 1.7380509000620732\n",
      "Lifestyle : 1.5828677839851024\n",
      "News : 1.3345747982619491\n",
      "Travel : 1.2414649286157666\n",
      "Finance : 1.1173184357541899\n",
      "Weather : 0.8690254500310366\n",
      "Food & Drink : 0.8069522036002483\n",
      "Reference : 0.5586592178770949\n",
      "Business : 0.5276225946617008\n",
      "Book : 0.4345127250155183\n",
      "Navigation : 0.186219739292365\n",
      "Medical : 0.186219739292365\n",
      "Catalogs : 0.12414649286157665\n"
     ]
    }
   ],
   "source": [
    "display_table(apple_free, -5)"
   ]
  },
  {
   "cell_type": "markdown",
   "metadata": {},
   "source": [
    "We can see above that Apple App Store has a huge audience for Games. In contrast, the Google Play Store was a little more diverse, but Games and Entertainment were still popular. This paints a somewhat more clear picture of what's dominating the market.\n",
    "\n",
    "# Most Popular Apps by Genre on the App Store\n",
    "To help paint a better picture, we must look at the installs for each genre. More specifically, we will begin by looking at the average installs for each Genre.\n",
    "\n",
    "We will start with the Apple DataSet."
   ]
  },
  {
   "cell_type": "code",
   "execution_count": 18,
   "metadata": {
    "collapsed": false
   },
   "outputs": [
    {
     "name": "stdout",
     "output_type": "stream",
     "text": [
      "News 21248.023255813954\n",
      "Food & Drink 33333.92307692308\n",
      "Productivity 21028.410714285714\n",
      "Lifestyle 16485.764705882353\n",
      "Entertainment 14029.830708661417\n",
      "Weather 52279.892857142855\n",
      "Sports 23008.898550724636\n",
      "Music 57326.530303030304\n",
      "Travel 28243.8\n",
      "Utilities 18684.456790123455\n",
      "Shopping 26919.690476190477\n",
      "Reference 74942.11111111111\n",
      "Education 7003.983050847458\n",
      "Photo & Video 28441.54375\n",
      "Games 22788.6696905016\n",
      "Medical 612.0\n",
      "Navigation 86090.33333333333\n",
      "Finance 31467.944444444445\n",
      "Book 39758.5\n",
      "Business 7491.117647058823\n",
      "Social Networking 71548.34905660378\n",
      "Catalogs 4004.0\n",
      "Health & Fitness 23298.015384615384\n"
     ]
    }
   ],
   "source": [
    "genres_ios = freq_table(apple_free, -5)\n",
    "\n",
    "for genre in genres_ios:\n",
    "    total = 0\n",
    "    len_genre = 0\n",
    "    for row in apple_free:\n",
    "        genre_app = row[-5]\n",
    "        if genre_app == genre:\n",
    "            user_ratings = float(row[5])\n",
    "            total += user_ratings\n",
    "            len_genre += 1\n",
    "    avg_ratings = total / len_genre\n",
    "    print(genre, avg_ratings)"
   ]
  },
  {
   "cell_type": "markdown",
   "metadata": {},
   "source": [
    "On average, it appears that Navigation apps have the highest average user ratings. While Games appeard to take a up a large portion of the App Store, they are not rated nearly as high. Reference is another genre with a high user rating. These include books (The Bible or a Dictionary) in the form of an app.\n",
    "\n",
    "# Most Popular Apps by Genre on Google Play\n",
    "\n",
    "We will now conduct a similar analysis on the data for the Google Playstore.\n",
    "\n",
    "However, the Google Dataset actually tells us the number of installs. This will be used instead as it gives us better information about the app."
   ]
  },
  {
   "cell_type": "code",
   "execution_count": 20,
   "metadata": {
    "collapsed": false
   },
   "outputs": [
    {
     "name": "stdout",
     "output_type": "stream",
     "text": [
      "WEATHER 5074486.197183099\n",
      "NEWS_AND_MAGAZINES 9549178.467741935\n",
      "PERSONALIZATION 5201482.6122448975\n",
      "ART_AND_DESIGN 1905351.6666666667\n",
      "BOOKS_AND_REFERENCE 8767811.894736841\n",
      "FOOD_AND_DRINK 1924897.7363636363\n",
      "COMMUNICATION 38326063.197916664\n",
      "SOCIAL 23253652.127118643\n",
      "FINANCE 1387692.475609756\n",
      "VIDEO_PLAYERS 24852732.40506329\n",
      "PHOTOGRAPHY 17840110.40229885\n",
      "TOOLS 10801391.298666667\n",
      "MEDICAL 120263.07987220447\n",
      "LIBRARIES_AND_DEMO 638503.734939759\n",
      "MAPS_AND_NAVIGATION 4056941.7741935486\n",
      "COMICS 817657.2727272727\n",
      "EVENTS 253542.22222222222\n",
      "BUSINESS 1704192.3399014778\n",
      "TRAVEL_AND_LOCAL 13984077.710144928\n",
      "SPORTS 3638640.1428571427\n",
      "PARENTING 542603.6206896552\n",
      "HOUSE_AND_HOME 1331540.5616438356\n",
      "GAME 15826136.514285713\n",
      "PRODUCTIVITY 16787331.344927534\n",
      "HEALTH_AND_FITNESS 4188821.9853479853\n",
      "EDUCATION 2169819.8198198196\n",
      "ENTERTAINMENT 21134600.0\n",
      "FAMILY 2814893.583638584\n",
      "BEAUTY 513151.88679245283\n",
      "SHOPPING 7036877.311557789\n",
      "AUTO_AND_VEHICLES 647317.8170731707\n",
      "LIFESTYLE 1437816.2687861272\n",
      "DATING 854028.8303030303\n"
     ]
    }
   ],
   "source": [
    "genres_google = freq_table(google_free, 1)\n",
    "\n",
    "for genre in genres_google:\n",
    "    total = 0\n",
    "    len_category = 0\n",
    "    for row in google_free:\n",
    "        app_genre = row[1]\n",
    "        if app_genre == genre:\n",
    "            installs = row[5]\n",
    "            installs = installs.replace(\"+\",\"\")\n",
    "            installs = float(installs.replace(\",\",\"\"))\n",
    "            total += installs\n",
    "            len_category += 1\n",
    "    avg_installs = total / len_category\n",
    "    print(genre, avg_installs)"
   ]
  },
  {
   "cell_type": "markdown",
   "metadata": {},
   "source": [
    "The above shows Communication is dominating the market by having 38,326,063 installs. Entertainment is also huge with installs of 21134600. \n",
    "\n",
    "# Conclusion\n",
    "\n",
    "While Games and Entertainment seem to be huge in both markets, their ratings aren't nearly as high as their amount of installs. Creating a free game for both platforms will most likely get lost in the sea of other free games. \n",
    "\n",
    "An interesting idea would actually be to make a free Reference app in both markets. They are rated highly and both very popular. The development time and cost would also be pretty low since the app is most text without much logic."
   ]
  }
 ],
 "metadata": {
  "kernelspec": {
   "display_name": "Python 3",
   "language": "python",
   "name": "python3"
  },
  "language_info": {
   "codemirror_mode": {
    "name": "ipython",
    "version": 3
   },
   "file_extension": ".py",
   "mimetype": "text/x-python",
   "name": "python",
   "nbconvert_exporter": "python",
   "pygments_lexer": "ipython3",
   "version": "3.4.3"
  }
 },
 "nbformat": 4,
 "nbformat_minor": 2
}
